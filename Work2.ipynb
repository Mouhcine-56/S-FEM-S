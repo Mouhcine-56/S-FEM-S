{
 "cells": [
  {
   "cell_type": "markdown",
   "metadata": {},
   "source": [
    "# Convection-Diffusion Equation\n",
    "\\begin{equation}\\label{1}\n",
    "\\left\\{\n",
    "\\begin{array}{rrrrr}\n",
    "\\epsilon u_{xx}+\\beta u_x &=&f&\\text{in} \\ \\ \\Omega=]-1,1[, \\\\\n",
    "u(-1)=u(1)&=&0.&\n",
    "\\end{array}\n",
    "\\right.\n",
    "\\end{equation}"
   ]
  },
  {
   "cell_type": "markdown",
   "metadata": {},
   "source": [
    "Needed imports:\n",
    "\n"
   ]
  },
  {
   "cell_type": "code",
   "execution_count": 19,
   "metadata": {},
   "outputs": [],
   "source": [
    "from numpy import  zeros, ones, linspace, zeros_like, asarray\n",
    "import numpy as np\n",
    "from math import cos,pi,exp\n",
    "from matplotlib import pyplot as plt\n",
    "from Functions1    import elements_spans  # computes the span for each element\n",
    "from Functions1    import make_knots      # create a knot sequence from a grid\n",
    "from Functions1   import quadrature_grid # create a quadrature rule over the whole 1d grid\n",
    "from Functions1    import basis_ders_on_quad_grid # evaluates all bsplines and their derivatives on the quad grid\n",
    "from Gauss_Legendre import gauss_legendre\n",
    "from Functions1   import plot_field_1d # plot a solution for 1d problems\n",
    "from Functions1    import ErrQuad\n",
    "from Functions1    import newgrid\n",
    "from IPython import display"
   ]
  },
  {
   "cell_type": "markdown",
   "metadata": {},
   "source": [
    "Data set:"
   ]
  },
  {
   "cell_type": "code",
   "execution_count": null,
   "metadata": {},
   "outputs": [],
   "source": [
    "# T=0.5653 #stability constant \n",
    "T=0\n",
    "p=2      #degree\n",
    "ep=0.6   #\\epsilon\n",
    "c=1      #\\beta\n",
    "ne =10   #number of elemets"
   ]
  },
  {
   "cell_type": "markdown",
   "metadata": {},
   "source": [
    "Assembling the stiffness matrix using stencil forms:"
   ]
  },
  {
   "cell_type": "code",
   "execution_count": 4,
   "metadata": {},
   "outputs": [],
   "source": [
    "# ===========================matrix M===============================\n",
    "def assemble_stiffnessM(nelements, degree, spans, basis, weights, points, matrix):\n",
    "\n",
    "    # ... sizes\n",
    "    ne1       = nelements\n",
    "    p1        = degree\n",
    "    spans_1   = spans\n",
    "    basis_1   = basis\n",
    "    weights_1 = weights\n",
    "    points_1  = points\n",
    "    \n",
    "    k1 = weights.shape[1]\n",
    "    # ...\n",
    "\n",
    "    # ... build matrices\n",
    "    for ie1 in range(0, ne1):\n",
    "        i_span_1 = spans_1[ie1]\n",
    "        for il_1 in range(0, p1+1):\n",
    "            for jl_1 in range(0, p1+1):\n",
    "                i1 = i_span_1 - p1 + il_1\n",
    "                j1 = i_span_1 - p1 + jl_1\n",
    "\n",
    "                v = 0.0\n",
    "                for g1 in range(0, k1):\n",
    "                    bi_0 = basis_1[ie1, il_1, 0, g1]\n",
    "                    bi_x = basis_1[ie1, il_1, 1, g1]                    \n",
    "\n",
    "                    bj_0 = basis_1[ie1, jl_1, 0, g1]\n",
    "                    bj_x = basis_1[ie1, jl_1, 1, g1]                    \n",
    "\n",
    "                    wvol = weights_1[ie1, g1]\n",
    "\n",
    "                    v +=(bi_x * bj_x) * wvol\n",
    "\n",
    "                matrix[i1, j1]  += v\n",
    "\n",
    "    return matrix"
   ]
  },
  {
   "cell_type": "code",
   "execution_count": 5,
   "metadata": {},
   "outputs": [],
   "source": [
    "# ===========================matrix N=============================== \n",
    "def assemble_stiffnessN(nelements, degree, spans, basis, weights, points, matrix):\n",
    "\n",
    "    # ... sizes\n",
    "    ne1       = nelements\n",
    "    p1        = degree\n",
    "    spans_1   = spans\n",
    "    basis_1   = basis\n",
    "    weights_1 = weights\n",
    "    points_1  = points\n",
    "    \n",
    "    k1 = weights.shape[1]\n",
    "\n",
    "    # ...\n",
    "\n",
    "    # ... build matrices\n",
    "    for ie1 in range(0, ne1):\n",
    "        i_span_1 = spans_1[ie1]\n",
    "        for il_1 in range(0, p1+1):\n",
    "            for jl_1 in range(0, p1+1):\n",
    "                i1 = i_span_1 - p1 + il_1\n",
    "                j1 = i_span_1 - p1 + jl_1\n",
    "\n",
    "                v = 0.0\n",
    "                for g1 in range(0, k1):\n",
    "                    bi_0 = basis_1[ie1, il_1, 0, g1]\n",
    "                    bi_x = basis_1[ie1, il_1, 1, g1]                    \n",
    "\n",
    "                    bj_0 = basis_1[ie1, jl_1, 0, g1]\n",
    "                    bj_x = basis_1[ie1, jl_1, 1, g1]                    \n",
    "\n",
    "                    wvol = weights_1[ie1, g1]\n",
    "\n",
    "                    v += (bi_0 * bj_x) * wvol\n",
    "\n",
    "                matrix[i1, j1]  += v\n",
    "\n",
    "    return matrix      "
   ]
  },
  {
   "cell_type": "code",
   "execution_count": 6,
   "metadata": {},
   "outputs": [],
   "source": [
    "# ===========================Assembly procedure for the rhs===============================    \n",
    "def assemble_rhs(f, nelements, degree, spans, basis, weights, points, rhs):\n",
    "\n",
    "    # ... sizes\n",
    "    ne1       = nelements\n",
    "    p1        = degree\n",
    "    spans_1   = spans\n",
    "    basis_1   = basis\n",
    "    weights_1 = weights\n",
    "    points_1  = points\n",
    "    \n",
    "    k1 = weights.shape[1]\n",
    "    # ...\n",
    "\n",
    "    # ... build rhs\n",
    "    for ie1 in range(0, ne1):\n",
    "        i_span_1 = spans_1[ie1]\n",
    "        for il_1 in range(0, p1+1):\n",
    "            i1 = i_span_1 - p1 + il_1\n",
    "\n",
    "            v = 0.0\n",
    "            for g1 in range(0, k1):\n",
    "                bi_0 = basis_1[ie1, il_1, 0, g1]\n",
    "                bi_x = basis_1[ie1, il_1, 1, g1]  \n",
    "\n",
    "                x1    = points_1[ie1, g1]\n",
    "                wvol  = weights_1[ie1, g1]\n",
    "\n",
    "                v += (bi_0+T*bi_x) * f(x1) * wvol\n",
    "\n",
    "            rhs[i1] += v\n",
    "\n",
    "    return rhs"
   ]
  },
  {
   "cell_type": "markdown",
   "metadata": {},
   "source": [
    "Exact Solution:"
   ]
  },
  {
   "cell_type": "code",
   "execution_count": 7,
   "metadata": {},
   "outputs": [],
   "source": [
    "x=np.linspace(-1,1,200)\n",
    "c1=(exp(1/ep)+exp(-1/ep))/(exp(1/ep)-exp(-1/ep))\n",
    "c2=-2/(exp(1/ep)-exp(-1/ep))\n",
    "exact = lambda x: c1+c2*exp(x/ep)+x\n",
    "h=[exact(e) for e in x]"
   ]
  },
  {
   "cell_type": "markdown",
   "metadata": {},
   "source": [
    "Non-uniform subdivision:"
   ]
  },
  {
   "cell_type": "code",
   "execution_count": 8,
   "metadata": {},
   "outputs": [],
   "source": [
    "#---------------------------------------------\n",
    "#grid =np.zeros([ne+1,1])\n",
    "#for i in range(ne+1):\n",
    " #   grid[i]=-1+2*np.power((i/(ne)),1/4)\n",
    "#grid=np.squeeze(grid) \n",
    "#--------------------------------------------\n",
    "#grid1  = linspace(-1., 1., ne+1)\n",
    "#alpha=[-0.1,0.058] \n",
    "#grid=newgrid(grid1,alpha) \n",
    "#--------------------------------------------\n",
    "#grid=np.array([-1. , -0.876,-0.69, -0.685,-0.31, -0.305, -0.064,  0.35 ,0.351,  0.64,  1. ])\n",
    "#grid=np.array([-1. , -0.8997,-0.79992, -0.3306,-0.2002, -0.10001, -0.005,  0.1003 ,0.199,  0.8503,  1. ])\n",
    "#grid=np.array([-1. , -0.9097,-0.8002, -0.3306,-0.2002, -0.10001, 0.0,  0.1003 ,0.200,  0.8503,  1. ])\n",
    "#grid=np.array([-1. , -0.986,-0.895, -0.775,-0.431, -0.4001, -0.164,  0.235 ,0.251,  0.54,  1. ])\n",
    "#--------------------------------------------------"
   ]
  },
  {
   "cell_type": "markdown",
   "metadata": {},
   "source": [
    "Uniform subdivision:\n"
   ]
  },
  {
   "cell_type": "code",
   "execution_count": 9,
   "metadata": {},
   "outputs": [],
   "source": [
    "#----------------------------------------------\n",
    "grid  = linspace(-1., 1., ne+1)\n",
    "#-----------------------------------------------"
   ]
  },
  {
   "cell_type": "markdown",
   "metadata": {},
   "source": [
    "Implementation:"
   ]
  },
  {
   "cell_type": "code",
   "execution_count": 12,
   "metadata": {},
   "outputs": [
    {
     "data": {
      "text/plain": [
       "<matplotlib.legend.Legend at 0x666a1d0>"
      ]
     },
     "execution_count": 12,
     "metadata": {},
     "output_type": "execute_result"
    },
    {
     "data": {
      "image/png": "[encoded data removed]",
      "text/plain": [
       "<Figure size 432x288 with 1 Axes>"
      ]
     },
     "metadata": {
      "needs_background": "light"
     },
     "output_type": "display_data"
    }
   ],
   "source": [
    "knots = make_knots(grid, p, periodic=False)\n",
    "spans = elements_spans(knots, p)    \n",
    "nelements = len(grid) - 1\n",
    "nbasis    = len(knots) - p - 1\n",
    "\n",
    "# we need the value a B-Spline and its first derivative\n",
    "nderiv = 1\n",
    "\n",
    "# create the gauss-legendre rule, on [-1, 1]\n",
    "u, w = gauss_legendre( p )\n",
    "\n",
    "# for each element on the grid, we create a local quadrature grid\n",
    "points, weights = quadrature_grid( grid, u, w )\n",
    "\n",
    "# for each element and a quadrature points, \n",
    "# we compute the non-vanishing B-Splines\n",
    "basis = basis_ders_on_quad_grid( knots, p, points, nderiv )\n",
    "stiffnessM = zeros((nbasis, nbasis))\n",
    "stiffnessM = assemble_stiffnessM(nelements, p, spans, basis, weights, points, matrix=stiffnessM)\n",
    "stiffnessN = zeros((nbasis, nbasis))\n",
    "stiffnessN = assemble_stiffnessN(nelements, p, spans, basis, weights, points, matrix=stiffnessN)\n",
    "\n",
    "f = lambda x: 1\n",
    "rhs = zeros(nbasis)\n",
    "rhs = assemble_rhs(f, nelements, p, spans, basis, weights, points, rhs=rhs)\n",
    "\n",
    "# apply homogeneous dirichlet boundary conditions\n",
    "#-----------------------------------------------\n",
    "rhs = rhs[1:-1]\n",
    "stiffnessM = stiffnessM[1:-1, 1:-1]\n",
    "stiffnessN = stiffnessN[1:-1, 1:-1]\n",
    "#-----------------------------------------------\n",
    "from scipy.sparse.linalg import cg\n",
    "u, info = cg( (ep+T)*stiffnessM+c*stiffnessN, rhs, tol=1e-6, maxiter=5000 )\n",
    "u = [0.] + list(u) + [0.]\n",
    "u = asarray(u)\n",
    "plot_field_1d(knots, p, u, nx=200)\n",
    "plt.plot(x,h,label=' Exacte')\n",
    "plt.legend()"
   ]
  },
  {
   "cell_type": "markdown",
   "metadata": {},
   "source": [
    "# Transport Equation $\\theta$-Schema\n",
    "\\begin{equation}\\label{2}\n",
    "\\left\\{\n",
    "\\begin{array}{rrrrr}\n",
    "\\frac{\\partial u}{\\partial t}+c\\frac{\\partial u}{\\partial x}&=&f&\\text{in}\\quad [0,T]\\times \\Omega,\\\\\n",
    "u(0,x)&=&u_{0}(x)&\\text{in}\\quad\\Omega, \\\\\n",
    "u(t,a)&=&0.&\n",
    "\\end{array}\n",
    "\\right.\n",
    "\\end{equation}"
   ]
  },
  {
   "cell_type": "markdown",
   "metadata": {},
   "source": [
    "Data set:"
   ]
  },
  {
   "cell_type": "code",
   "execution_count": 14,
   "metadata": {},
   "outputs": [],
   "source": [
    "T=0.035 #stability constant for ne=100\n",
    "#T=0.0045 #stability constant for ne=300,500 \n",
    "teta=0.6  #\\theta\n",
    "p=2 \n",
    "c=1 \n",
    "ne =100   #number of elemets\n",
    "ht=0.01  #the time step\n",
    "Tmax=1.5 #final time"
   ]
  },
  {
   "cell_type": "markdown",
   "metadata": {},
   "source": [
    "Assembling the stiffness matrix using stencil forms"
   ]
  },
  {
   "cell_type": "code",
   "execution_count": 16,
   "metadata": {},
   "outputs": [],
   "source": [
    "# ===========================matrix M===============================\n",
    "def assemble_stiffnessM(nelements, degree, spans, basis, weights, points, matrix):\n",
    "\n",
    "    # ... sizes\n",
    "    ne1       = nelements\n",
    "    p1        = degree\n",
    "    spans_1   = spans\n",
    "    basis_1   = basis\n",
    "    weights_1 = weights\n",
    "    points_1  = points\n",
    "    \n",
    "    k1 = weights.shape[1]\n",
    "    # ...\n",
    "\n",
    "    # ... build matrices\n",
    "    for ie1 in range(0, ne1):\n",
    "        i_span_1 = spans_1[ie1]\n",
    "        for il_1 in range(0, p1+1):\n",
    "            for jl_1 in range(0, p1+1):\n",
    "                i1 = i_span_1 - p1 + il_1\n",
    "                j1 = i_span_1 - p1 + jl_1\n",
    "\n",
    "                v = 0.0\n",
    "                for g1 in range(0, k1):\n",
    "                    bi_0 = basis_1[ie1, il_1, 0, g1]\n",
    "                    bi_x = basis_1[ie1, il_1, 1, g1]                    \n",
    "\n",
    "                    bj_0 = basis_1[ie1, jl_1, 0, g1]\n",
    "                    bj_x = basis_1[ie1, jl_1, 1, g1]                    \n",
    "\n",
    "                    wvol = weights_1[ie1, g1]\n",
    "\n",
    "                    v += (bi_0 * bj_0) * wvol\n",
    "\n",
    "                matrix[i1, j1]  += v\n",
    "    # ...\n",
    "\n",
    "    return matrix    \n",
    "\n",
    "# ===========================matrix N===============================\n",
    "    \n",
    "def assemble_stiffnessN(nelements, degree, spans, basis, weights, points, matrix):\n",
    "\n",
    "    # ... sizes\n",
    "    ne1       = nelements\n",
    "    p1        = degree\n",
    "    spans_1   = spans\n",
    "    basis_1   = basis\n",
    "    weights_1 = weights\n",
    "    points_1  = points\n",
    "    \n",
    "    k1 = weights.shape[1]\n",
    "    \n",
    "    # ...\n",
    "\n",
    "    # ... build matrices\n",
    "    for ie1 in range(0, ne1):\n",
    "        i_span_1 = spans_1[ie1]\n",
    "        for il_1 in range(0, p1+1):\n",
    "            for jl_1 in range(0, p1+1):\n",
    "                i1 = i_span_1 - p1 + il_1\n",
    "                j1 = i_span_1 - p1 + jl_1\n",
    "\n",
    "                v = 0.0\n",
    "                for g1 in range(0, k1):\n",
    "                    bi_0 = basis_1[ie1, il_1, 0, g1]\n",
    "                    bi_x = basis_1[ie1, il_1, 1, g1]                    \n",
    "\n",
    "                    bj_0 = basis_1[ie1, jl_1, 0, g1]\n",
    "                    bj_x = basis_1[ie1, jl_1, 1, g1]                    \n",
    "\n",
    "                    wvol = weights_1[ie1, g1]\n",
    "\n",
    "                    v += (bi_0 * bj_x) * wvol\n",
    "\n",
    "                matrix[i1, j1]  += v\n",
    "    # ...\n",
    "\n",
    "    return matrix \n",
    "# ===========================matrix R=============================== \n",
    "def assemble_stiffnessR(nelements, degree, spans, basis, weights, points, matrix):\n",
    "\n",
    "    # ... sizes\n",
    "    ne1       = nelements\n",
    "    p1        = degree\n",
    "    spans_1   = spans\n",
    "    basis_1   = basis\n",
    "    weights_1 = weights\n",
    "    points_1  = points\n",
    "    \n",
    "    k1 = weights.shape[1]\n",
    "    \n",
    "    # ...\n",
    "\n",
    "    # ... build matrices\n",
    "    for ie1 in range(0, ne1):\n",
    "        i_span_1 = spans_1[ie1]\n",
    "        for il_1 in range(0, p1+1):\n",
    "            for jl_1 in range(0, p1+1):\n",
    "                i1 = i_span_1 - p1 + il_1\n",
    "                j1 = i_span_1 - p1 + jl_1\n",
    "\n",
    "                v = 0.0\n",
    "                for g1 in range(0, k1):\n",
    "                    bi_0 = basis_1[ie1, il_1, 0, g1]\n",
    "                    bi_x = basis_1[ie1, il_1, 1, g1]                    \n",
    "\n",
    "                    bj_0 = basis_1[ie1, jl_1, 0, g1]\n",
    "                    bj_x = basis_1[ie1, jl_1, 1, g1]                    \n",
    "\n",
    "                    wvol = weights_1[ie1, g1]\n",
    "\n",
    "                    v += (bi_x * bj_0) * wvol\n",
    "\n",
    "                matrix[i1, j1]  += T*c* v\n",
    "    # ...\n",
    "\n",
    "    return matrix\n",
    "# ===========================matrix S===============================  \n",
    "def assemble_stiffnessS(nelements, degree, spans, basis, weights, points, matrix):\n",
    "\n",
    "    # ... sizes\n",
    "    ne1       = nelements\n",
    "    p1        = degree\n",
    "    spans_1   = spans\n",
    "    basis_1   = basis\n",
    "    weights_1 = weights\n",
    "    points_1  = points\n",
    "    \n",
    "    k1 = weights.shape[1]\n",
    "\n",
    "    # ...\n",
    "\n",
    "    # ... build matrices\n",
    "    for ie1 in range(0, ne1):\n",
    "        i_span_1 = spans_1[ie1]\n",
    "        for il_1 in range(0, p1+1):\n",
    "            for jl_1 in range(0, p1+1):\n",
    "                i1 = i_span_1 - p1 + il_1\n",
    "                j1 = i_span_1 - p1 + jl_1\n",
    "\n",
    "                v = 0.0\n",
    "                for g1 in range(0, k1):\n",
    "                    bi_0 = basis_1[ie1, il_1, 0, g1]\n",
    "                    bi_x = basis_1[ie1, il_1, 1, g1]                    \n",
    "\n",
    "                    bj_0 = basis_1[ie1, jl_1, 0, g1]\n",
    "                    bj_x = basis_1[ie1, jl_1, 1, g1]                    \n",
    "\n",
    "                    wvol = weights_1[ie1, g1]\n",
    "\n",
    "                    v += (bi_x * bj_x) * wvol\n",
    "\n",
    "                matrix[i1, j1]  +=T*c*c*v\n",
    "    # ...\n",
    "\n",
    "    return matrix     "
   ]
  },
  {
   "cell_type": "markdown",
   "metadata": {},
   "source": [
    "Exact Solution:\n"
   ]
  },
  {
   "cell_type": "code",
   "execution_count": 17,
   "metadata": {},
   "outputs": [],
   "source": [
    "def U0(x):\n",
    "    if x>=-1 and x<=1 :\n",
    "        return 5\n",
    "    else:\n",
    "        return 0 \n",
    "def Uexact(t,x,c) :\n",
    "        return(U0(x-c*t)) \n",
    "    \n",
    "def plot_exact(knots,degree,t,c,nx=101,color='r'):\n",
    "    xmin = knots[degree]\n",
    "    xmax = knots[-degree-1]\n",
    "\n",
    "    xs = np.linspace(xmin, xmax, nx)\n",
    "    u=[Uexact(t,e,c) for e in xs]\n",
    "    plt.plot(xs, u,label='U Exacte')\n",
    "    plt.legend()"
   ]
  },
  {
   "cell_type": "code",
   "execution_count": 18,
   "metadata": {},
   "outputs": [],
   "source": [
    "# ===========================non-uniform subdivision===============================\n",
    "#---------------------------------------------\n",
    "#grid =np.zeros([ne+1,1])\n",
    "#for i in range(ne+1):\n",
    " #   grid[i]=-5+10*np.power((i/(ne)),(1/4))\n",
    "#grid=np.squeeze(grid)    \n",
    "#X =np.zeros([ne+p,1])\n",
    "#for i in range(ne+p):\n",
    "   # X[i]=-5+10*np.power((i/(ne+p-1)),(1/4))\n",
    "#X=np.squeeze(X)\n",
    "# ===========================uniform subdivision===============================    \n",
    "#----------------------------------------------\n",
    "grid  = linspace(-5., 5., ne+1)\n",
    "X  = linspace(-5., 5., ne+p)\n",
    "#-----------------------------------------------\n",
    "# =========================================================="
   ]
  },
  {
   "cell_type": "markdown",
   "metadata": {},
   "source": [
    "Implementation:"
   ]
  },
  {
   "cell_type": "code",
   "execution_count": 20,
   "metadata": {},
   "outputs": [
    {
     "data": {
      "image/png": "[encoded data removed]",
      "text/plain": [
       "<Figure size 432x288 with 1 Axes>"
      ]
     },
     "metadata": {
      "needs_background": "light"
     },
     "output_type": "display_data"
    }
   ],
   "source": [
    "f=[U0(e) for e in X]  \n",
    "knots = make_knots(grid, p, periodic=False)\n",
    "spans = elements_spans(knots, p)    \n",
    "nelements = len(grid) - 1\n",
    "nbasis    = len(knots) - p - 1\n",
    "\n",
    "# we need the value a B-Spline and its first derivative\n",
    "nderiv = 1\n",
    "# create the gauss-legendre rule, on [-1, 1]\n",
    "u, w = gauss_legendre( p )\n",
    "\n",
    "# for each element on the grid, we create a local quadrature grid\n",
    "points, weights = quadrature_grid( grid, u, w )\n",
    "\n",
    "# for each element and a quadrature points, \n",
    "# we compute the non-vanishing B-Splines\n",
    "basis = basis_ders_on_quad_grid( knots, p, points, nderiv )\n",
    "stiffnessM = zeros((nbasis, nbasis))\n",
    "stiffnessN = zeros((nbasis, nbasis))\n",
    "stiffnessR = zeros((nbasis, nbasis))\n",
    "stiffnessS = zeros((nbasis, nbasis))\n",
    "stiffnessM = assemble_stiffnessM(nelements, p, spans, basis, weights, points, matrix=stiffnessM)\n",
    "stiffnessN = assemble_stiffnessN(nelements, p, spans, basis, weights, points, matrix=stiffnessN)\n",
    "stiffnessR = assemble_stiffnessR(nelements, p, spans, basis, weights, points, matrix=stiffnessR)\n",
    "stiffnessS = assemble_stiffnessS(nelements, p, spans, basis, weights, points, matrix=stiffnessS)\n",
    "#------------------------------------------------------------------------------------------\n",
    "z=0\n",
    "temps=[]\n",
    "Err=[]\n",
    "while z<=Tmax:\n",
    "    G=stiffnessM+stiffnessR+np.dot(ht*teta,stiffnessS+stiffnessN)\n",
    "    # apply homogeneous dirichlet boundary conditions\n",
    "    G[0,:]=0\n",
    "    G[0,0]=1\n",
    "    S=np.dot(stiffnessM+stiffnessR+ht*(teta-1)*(stiffnessS+stiffnessN),f[:])\n",
    "    S[0]=0\n",
    "    from scipy.sparse.linalg import gmres\n",
    "    unew, info = gmres( G, S, tol=1e-6, maxiter=5000 )\n",
    "    unew = list(unew) \n",
    "    unew = asarray(unew)\n",
    "    o=[Uexact(z,e,c) for e in X]\n",
    "    #Err1=ErrQuad (unew,o)\n",
    "    #temps.append(z)\n",
    "    #Err.append(Err1)\n",
    "    display.clear_output(wait=True)\n",
    "    plot_field_1d(knots, p, unew, nx=1000)\n",
    "    plot_exact(knots,p,z,c,nx=200,color='r')\n",
    "    plt.ylim([-1,6])\n",
    "    plt.pause(0.005)\n",
    "    f=unew\n",
    "    z=z+ht\n",
    "# ===========================Plot Error=============================== \n",
    "#Max=max(Err)\n",
    "#plt.plot(temps,Err,label='MaxErr=%1.4f'%Max)   \n",
    "#plt.title('Teta=%1.2f'%teta )\n",
    "#plt.legend()\n",
    "#plt.grid()    \n",
    "#print(Max)"
   ]
  },
  {
   "cell_type": "markdown",
   "metadata": {},
   "source": [
    "# Transport Equation Runge-Kutta"
   ]
  },
  {
   "cell_type": "markdown",
   "metadata": {},
   "source": [
    "Data set:"
   ]
  },
  {
   "cell_type": "code",
   "execution_count": 21,
   "metadata": {},
   "outputs": [],
   "source": [
    "T=0.035 #stability constant for ne=100\n",
    "#T=0.0045 #stability constant for ne=300,500 \n",
    "p=2 \n",
    "c=1 \n",
    "ne =100   #number of elemets\n",
    "ht=0.01  #the time step\n",
    "Tmax=1.5 #final time"
   ]
  },
  {
   "cell_type": "markdown",
   "metadata": {},
   "source": [
    "Implementation:\n"
   ]
  },
  {
   "cell_type": "code",
   "execution_count": 23,
   "metadata": {},
   "outputs": [
    {
     "data": {
      "image/png": "[encoded data removed]",
      "text/plain": [
       "<Figure size 432x288 with 1 Axes>"
      ]
     },
     "metadata": {
      "needs_background": "light"
     },
     "output_type": "display_data"
    }
   ],
   "source": [
    "f=[U0(e) for e in X]\n",
    "knots = make_knots(grid, p, periodic=False)\n",
    "spans = elements_spans(knots, p)    \n",
    "nelements = len(grid) - 1\n",
    "nbasis    = len(knots) - p - 1\n",
    "\n",
    "# we need the value a B-Spline and its first derivative\n",
    "nderiv = 1\n",
    "\n",
    "# create the gauss-legendre rule, on [-1, 1]\n",
    "u, w = gauss_legendre( p )\n",
    "\n",
    "# for each element on the grid, we create a local quadrature grid\n",
    "points, weights = quadrature_grid( grid, u, w )\n",
    "\n",
    "# for each element and a quadrature points, \n",
    "# we compute the non-vanishing B-Splines\n",
    "basis = basis_ders_on_quad_grid( knots, p, points, nderiv )\n",
    "stiffnessM = zeros((nbasis, nbasis))\n",
    "stiffnessN = zeros((nbasis, nbasis))\n",
    "stiffnessR = zeros((nbasis, nbasis))\n",
    "stiffnessS = zeros((nbasis, nbasis))\n",
    "stiffnessM = assemble_stiffnessM(nelements, p, spans, basis, weights, points, matrix=stiffnessM)\n",
    "stiffnessN = assemble_stiffnessN(nelements, p, spans, basis, weights, points, matrix=stiffnessN)\n",
    "stiffnessR = assemble_stiffnessR(nelements, p, spans, basis, weights, points, matrix=stiffnessR)\n",
    "stiffnessS = assemble_stiffnessS(nelements, p, spans, basis, weights, points, matrix=stiffnessS)\n",
    "#----------------------------------------------------------\n",
    "# apply homogeneous dirichlet boundary conditions\n",
    "stiffnessM=stiffnessM[1:, 1:]\n",
    "stiffnessR=stiffnessR[1:, 1:]\n",
    "stiffnessS=stiffnessS[1:, 1:]\n",
    "stiffnessN=stiffnessN[1:, 1:]\n",
    "#----------------------------------------------------\n",
    "temps=[]\n",
    "Err=[]\n",
    "z=0\n",
    "while z<=Tmax:\n",
    "    A=np.linalg.inv(stiffnessM+stiffnessR)\n",
    "    B=-1*np.dot(stiffnessN+stiffnessS,A)\n",
    "    K1=ht*np.dot(B,f[1:])\n",
    "    K2=ht*np.dot(B,f[1:]+0.5*K1)\n",
    "    K3=ht*np.dot(B,f[1:]+0.5*K2)\n",
    "    K4=ht*np.dot(B,f[1:]+K3)\n",
    "    unew=f[1:]+1/6*(K1+2*K2+2*K3+K4)\n",
    "    unew = list(unew) \n",
    "    unew = [0.] + list(unew)\n",
    "    unew = asarray(unew)\n",
    "    o=[Uexact(z,e,c) for e in X]\n",
    "    Err1=ErrQuad (unew,o)\n",
    "    #temps.append(z)\n",
    "    #Err.append(Err1)\n",
    "    display.clear_output(wait=True)\n",
    "    plot_field_1d(knots, p, unew, nx=1000)\n",
    "    plot_exact(knots,p,z,c,nx=200,color='r')\n",
    "    plt.ylim([-1,6])\n",
    "    plt.pause(0.005)\n",
    "    f=unew\n",
    "    z=z+ht\n",
    "# ===========================Plot Error=============================== \n",
    "#Max=max(Err)    \n",
    "#plt.plot(temps,Err,label='MaxErr=%1.4f'%Max)   \n",
    "#plt.legend()\n",
    "#plt.grid()    "
   ]
  },
  {
   "cell_type": "code",
   "execution_count": null,
   "metadata": {},
   "outputs": [],
   "source": []
  }
 ],
 "metadata": {
  "kernelspec": {
   "display_name": "Python 3",
   "language": "python",
   "name": "python3"
  },
  "language_info": {
   "codemirror_mode": {
    "name": "ipython",
    "version": 3
   },
   "file_extension": ".py",
   "mimetype": "text/x-python",
   "name": "python",
   "nbconvert_exporter": "python",
   "pygments_lexer": "ipython3",
   "version": "3.7.6"
  }
 },
 "nbformat": 4,
 "nbformat_minor": 4
}
